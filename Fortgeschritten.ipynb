{
 "cells": [
  {
   "cell_type": "markdown",
   "id": "040f3ff1-1b81-4135-a2b7-10881dda35d3",
   "metadata": {},
   "source": [
    "# Fortgeschrittene Methoden\n",
    "## Funktionen\n",
    "\n",
    "Will man bestimmte Abläufe mehrmals an verschiedenen Stellen aufrufen, lohnt es sich eine Funktion dafür zu definieren. Diese bestehen immer aus einem Funktionsnamen und dessen Argumente. Der große Vorteil ist, dass im Code dann nur eine Stelle verändert werden muss, falls etwas verbessert wird und nicht an jeder Stelle wo man die gleiche funktionalität implementiert hat."
   ]
  },
  {
   "cell_type": "code",
   "execution_count": 1,
   "id": "821e1f5a-3549-47d7-823c-833f9d3f9f68",
   "metadata": {},
   "outputs": [],
   "source": [
    "def beispielFunktion(arg):\n",
    "    for i in range(0, arg):\n",
    "        print(i)"
   ]
  },
  {
   "cell_type": "code",
   "execution_count": 3,
   "id": "22e160fa-519e-401c-bdaa-2064df5182a6",
   "metadata": {},
   "outputs": [
    {
     "name": "stdout",
     "output_type": "stream",
     "text": [
      "0\n",
      "1\n",
      "2\n",
      "3\n",
      "4\n",
      "0\n",
      "1\n"
     ]
    }
   ],
   "source": [
    "beispielFunktion(5)\n",
    "beispielFunktion(2)"
   ]
  },
  {
   "cell_type": "markdown",
   "id": "aeb4fa16-08df-4f17-b6e8-3dd913c375ad",
   "metadata": {},
   "source": [
    "### Returns\n",
    "Was hier implementiert ist, ist eine Funktion ohne formalen Rückgabewert (<b>void</b> für Leute die andere Programmiersprachen kennen). In diesem Falle wird nur eine Routine implementiert. Natürlich kann man aber auch einer Funktion einen Rückgabewert geben, damit man z.B. eine Rechnung mit den Variablen durchführen kann."
   ]
  },
  {
   "cell_type": "code",
   "execution_count": 5,
   "id": "d141c072-54c6-4a6a-a233-6aa427daf9a7",
   "metadata": {},
   "outputs": [],
   "source": [
    "import numpy as np"
   ]
  },
  {
   "cell_type": "code",
   "execution_count": 7,
   "id": "29c53e40-6ebe-4148-82d7-25b0e1dd18c5",
   "metadata": {},
   "outputs": [],
   "source": [
    "def beispielFunktion(arg):\n",
    "    return np.exp(arg)"
   ]
  },
  {
   "cell_type": "code",
   "execution_count": 11,
   "id": "60984b42-8ceb-4263-8f4e-9dbb1d07dd8a",
   "metadata": {},
   "outputs": [
    {
     "name": "stdout",
     "output_type": "stream",
     "text": [
      "2.718281828459045\n"
     ]
    }
   ],
   "source": [
    "print(beispielFunktion(1))"
   ]
  },
  {
   "cell_type": "markdown",
   "id": "f0eb7002-437f-4b7a-96f1-5b16725a9124",
   "metadata": {},
   "source": [
    "## Docstrings\n",
    "Es gibt so genannte Docstrings in Python. Damit kann man seine Funktionen (und Klassen) kommentieren. Viele IDE's bieten dann die Möglichkeit, dass man diese Kommentare sieht, wenn man irgendwo im Code bei einem Funktionenaufruf drüber hovert. Standardmäßig sagt man kurz, was die Funktion macht, danach folgt eine Erklärung zu den Argumenten und was die Funktion für eine Rückgabe macht, falls dies der Fall ist"
   ]
  },
  {
   "cell_type": "code",
   "execution_count": 12,
   "id": "7f89aade-1f6b-43ab-be76-3b0030061eab",
   "metadata": {},
   "outputs": [],
   "source": [
    "def beispielFunktion(arg):\n",
    "    '''Berechnet e^arg.\n",
    "    \n",
    "    arg: Das argument der Funktion.\n",
    "    \n",
    "    returns: e^arg'''\n",
    "    \n",
    "    return np.exp(arg)"
   ]
  },
  {
   "cell_type": "markdown",
   "id": "ff6cf4b7-6da4-4e66-9213-a4a49da90562",
   "metadata": {},
   "source": [
    "## String formatting\n",
    "\n",
    "Python hat eine formatting Funktion für Strings. Damit gibt man dem String eine bestimmte Eigenschaft und gibt an, dass man ein bestimmtes Format haben will. Der einzig wichtige für euch ist der <font color='green'>f</font>-String, damit kann man im String Variablen quasi im Fließtext übergeben. Die alternative Methode ist mittels <font color='green'>%</font>-formatting, ist aber deutlisch unübersichtlicher."
   ]
  },
  {
   "cell_type": "code",
   "execution_count": 22,
   "id": "3288e44f-3e8a-443e-86d2-01c3ff7dc956",
   "metadata": {},
   "outputs": [
    {
     "name": "stdout",
     "output_type": "stream",
     "text": [
      "Ich bin im 0'ten Schleifendurchlauf\n",
      "Ich bin im 1'ten Schleifendurchlauf\n",
      "Ich bin im 2'ten Schleifendurchlauf\n",
      "Ich bin im 3'ten Schleifendurchlauf\n"
     ]
    }
   ],
   "source": [
    "# Veraltet\n",
    "for i in range(0, 4):\n",
    "    print(\"Ich bin im %d'ten Schleifendurchlauf\" %i)"
   ]
  },
  {
   "cell_type": "code",
   "execution_count": 23,
   "id": "e96a8484-3652-428d-ad85-2627630b09ad",
   "metadata": {},
   "outputs": [
    {
     "name": "stdout",
     "output_type": "stream",
     "text": [
      "Ich bin im 0'ten Schleifendurchlauf\n",
      "Ich bin im 1'ten Schleifendurchlauf\n",
      "Ich bin im 2'ten Schleifendurchlauf\n",
      "Ich bin im 3'ten Schleifendurchlauf\n"
     ]
    }
   ],
   "source": [
    "for i in range(0, 4):\n",
    "    print(f\"Ich bin im {i}'ten Schleifendurchlauf\")"
   ]
  },
  {
   "cell_type": "code",
   "execution_count": null,
   "id": "1cea04db-8f25-40d8-ad94-8fbfa3e32d53",
   "metadata": {},
   "outputs": [],
   "source": []
  }
 ],
 "metadata": {
  "kernelspec": {
   "display_name": "Python 3 (ipykernel)",
   "language": "python",
   "name": "python3"
  },
  "language_info": {
   "codemirror_mode": {
    "name": "ipython",
    "version": 3
   },
   "file_extension": ".py",
   "mimetype": "text/x-python",
   "name": "python",
   "nbconvert_exporter": "python",
   "pygments_lexer": "ipython3",
   "version": "3.9.6"
  }
 },
 "nbformat": 4,
 "nbformat_minor": 5
}
