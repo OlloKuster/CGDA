{
 "cells": [
  {
   "cell_type": "markdown",
   "id": "6127e512-40e8-4a93-a872-fe15015eb2b9",
   "metadata": {},
   "source": [
    "# Datentypen\n",
    "\n",
    "## Basics\n",
    "\n",
    "Was Python meiner Meinung nach sehr anfängerfreundlich macht, ist dass Python sehr flexibel ist was Datentypen angeht. Man muss nicht von vorne herein festlegen, welchen Datentyp man verwendet und Python konvertiert je nach Bedarf auch automatisch zwischen den verschiedenen Datentypen.<br>\n",
    "Da die Details zu den basic Datentypen relativ egal sind, gehe ich direkt zu den komplexeren Datentypen über die Python hat.\n",
    "\n",
    "## Listen\n",
    "<b>Listen</b> sind ein sequenzieller Datentyp. Sie speichern einfach eine Abfolge an Einträgen, ähnlich zu einem Vektor. Einzelne Einträge können dann mit eckigen Klammern abgefragt werden.<br>\n",
    "Wenn man den Eintrag <font color='green'>-1</font> abfragt, erhält man den letzten Eintrag der Liste. Will man eine bestimmte Subsektion aufrufen, kann man das mittels [s:e] machen"
   ]
  },
  {
   "cell_type": "code",
   "execution_count": 3,
   "id": "d5fe8037-d5d0-43f8-aff7-528dd9ca241c",
   "metadata": {},
   "outputs": [
    {
     "name": "stdout",
     "output_type": "stream",
     "text": [
      "Audi\n",
      "BMW\n",
      "['Audi', 'BMW']\n"
     ]
    }
   ],
   "source": [
    "automarken = [\"Mercedes\", \"Porsche\", \"Audi\", \"BMW\"]\n",
    "print(automarken[2])\n",
    "print(automarken[-1])\n",
    "print(automarken[2:4])"
   ]
  },
  {
   "cell_type": "markdown",
   "id": "96000476-1f7a-497b-82d1-15dae480d91b",
   "metadata": {},
   "source": [
    "## Dictionaries\n",
    "\n",
    "Wenn man bestimmte Kombinationen abspeichern will, kann man dies mittels sogenannten <b>Dictionaries</b> tun. Damit kann man mit dem <i>Key</i> einen <i>Value</i> aufrufen. Diese müssen im Allgemeinen auch keine fixe reihenfolge zueinander haben."
   ]
  },
  {
   "cell_type": "code",
   "execution_count": 6,
   "id": "3dcb4e44-89d6-4f30-b5e4-1641ef745f58",
   "metadata": {},
   "outputs": [
    {
     "name": "stdout",
     "output_type": "stream",
     "text": [
      "4.0\n",
      "1.3\n"
     ]
    }
   ],
   "source": [
    "noten = {\"Ex 1\": 1.3, \"Theo A\": 4.0, \"Ex b\": 3.0, \"Theo B\": 5.0}\n",
    "print(noten[\"Theo A\"])\n",
    "print(noten[\"Ex 1\"])"
   ]
  },
  {
   "cell_type": "markdown",
   "id": "1d9cd2cd-cf3e-4ed2-9817-43047c591400",
   "metadata": {},
   "source": [
    "## Praktische Hinweise\n",
    "\n",
    "### numpy Arrays\n",
    "Wir werden für sehr vieles numpy Arrays verwenden. Im Prinzip kann man diese genause wie Listen verwenden, man hat aber durch numpy mehr Möglichkeiten, mit ihnen zu rechnen und sie als richtige Vektoren, Matrizen oder Tensoren zu benutzen."
   ]
  },
  {
   "cell_type": "code",
   "execution_count": 2,
   "id": "485679ea-1082-4cb9-ae0a-5afab16df4dc",
   "metadata": {},
   "outputs": [
    {
     "name": "stdout",
     "output_type": "stream",
     "text": [
      "21\n",
      "[[38 22 44]\n",
      " [17  8 21]]\n",
      "[[ -2 -10]\n",
      " [  1 -19]]\n"
     ]
    }
   ],
   "source": [
    "import numpy as np\n",
    "\n",
    "a = np.array([1, 3])\n",
    "b = np.array([3, 6])\n",
    "\n",
    "# Skalarprodukt\n",
    "print(a.T @ b)\n",
    "\n",
    "A = np.array([[2,4], [3, 1]])\n",
    "B = np.array([[3, 8], [1, 5], [4, 9]])\n",
    "\n",
    "# Matrixmultiplikation\n",
    "print(A @ B.T)\n",
    "\n",
    "# Broadcasting mittels vectorisation (braucht ihr wahrscheinlich nicht)\n",
    "print(np.sum(A[:, None, :] - B[None, :, :], axis=1))"
   ]
  },
  {
   "cell_type": "markdown",
   "id": "649a78b8-2462-4020-83b0-648b4c293f2e",
   "metadata": {},
   "source": [
    "### Befüllen von Listen\n",
    "\n",
    "Man kann zwar eine komplette Schleife schreiben um eine Liste automatisch mit bestimmten Werten zu befüllen, Python bietet aber eine verkürzte Schreibweise dafür an."
   ]
  },
  {
   "cell_type": "code",
   "execution_count": 13,
   "id": "da3f3a34-6bbe-4ef2-a48a-7cbe8e7c5abb",
   "metadata": {},
   "outputs": [
    {
     "name": "stdout",
     "output_type": "stream",
     "text": [
      "[0, 1, 2, 3, 4, 5, 6, 7, 8, 9]\n"
     ]
    }
   ],
   "source": [
    "a = [i for i in range(0, 10)]\n",
    "print(a)"
   ]
  },
  {
   "cell_type": "markdown",
   "id": "4066a7a6-2f8a-45c0-9b48-bf98126ce9fe",
   "metadata": {},
   "source": [
    "### Iterieren über Listen und Dictionaries\n",
    "\n",
    "Python bietet auch die Möglichkeit über Listen und Dictionaries zu iterieren."
   ]
  },
  {
   "cell_type": "code",
   "execution_count": 15,
   "id": "3499e7e5-e430-487e-b86b-f501ed9e8ce1",
   "metadata": {},
   "outputs": [
    {
     "name": "stdout",
     "output_type": "stream",
     "text": [
      "Mercedes\n",
      "Porsche\n",
      "Audi\n",
      "BMW\n",
      "----------\n",
      "1.3\n",
      "4.0\n",
      "3.0\n",
      "5.0\n"
     ]
    }
   ],
   "source": [
    "for marke in automarken:\n",
    "    print(marke)\n",
    "    \n",
    "print(\"----------\")\n",
    "\n",
    "for key in noten:\n",
    "    print(noten[key])"
   ]
  },
  {
   "cell_type": "code",
   "execution_count": null,
   "id": "6719a2d5-13c4-4283-80ed-bc1b252378b9",
   "metadata": {},
   "outputs": [],
   "source": []
  }
 ],
 "metadata": {
  "kernelspec": {
   "display_name": "Python 3 (ipykernel)",
   "language": "python",
   "name": "python3"
  },
  "language_info": {
   "codemirror_mode": {
    "name": "ipython",
    "version": 3
   },
   "file_extension": ".py",
   "mimetype": "text/x-python",
   "name": "python",
   "nbconvert_exporter": "python",
   "pygments_lexer": "ipython3",
   "version": "3.9.6"
  }
 },
 "nbformat": 4,
 "nbformat_minor": 5
}
