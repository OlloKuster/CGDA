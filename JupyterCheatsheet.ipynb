{
 "cells": [
  {
   "cell_type": "markdown",
   "metadata": {},
   "source": [
    "# Jupyter Cheatsheet"
   ]
  },
  {
   "cell_type": "markdown",
   "metadata": {},
   "source": [
    "## Tastaturkürzel"
   ]
  },
  {
   "cell_type": "markdown",
   "metadata": {},
   "source": [
    "### Allgemein\n",
    "\n",
    "| Befehl | Aktion |\n",
    "|----------|----------|\n",
    "| `esc` | verlässt Editiermodus|\n",
    "| `enter` | geht in Editiermodus|"
   ]
  },
  {
   "cell_type": "markdown",
   "metadata": {},
   "source": [
    "###  Kommandomodus\n",
    "\n",
    "| Befehl | Aktion |\n",
    "|----------|----------|\n",
    "| `d,d` | löscht aktuelle Zelle|\n",
    "| `z` | macht Zellenlöschung rückgängig |\n",
    "| `a` | fügt neue Zelle überhalb der aktuellen ein |\n",
    "| `b` | fügt neue Zelle unterhalb der aktuellen ein |\n",
    "| `m` | ändert zu Markdown|\n",
    "| `y` | ändert zu Code |\n",
    "| `shift` + `m` | fügt ausgewählte Zellen zusammen|\n",
    "| `x` | schneidet Zelle aus |\n",
    "| `c` | copiert Zelle |\n",
    "| `v` | fügt Zelle ein|"
   ]
  },
  {
   "cell_type": "markdown",
   "metadata": {},
   "source": [
    "### Editiermodus\n",
    "| Befehl | Aktion |\n",
    "|----------|----------|\n",
    "| `ctrl` + `shift` + `-` | splitet Zelle an aktueller Stelle|\n",
    "| `shift` + `enter` | führt Zelle aus und geht zur nächsten |\n",
    "| `alt`+ `enter` | führt Zelle aus und erstellt Neue unterhalb |\n",
    "| `ctrl` + `enter` | führt Zelle aus |"
   ]
  },
  {
   "cell_type": "markdown",
   "metadata": {},
   "source": [
    "## Markdown\n",
    "\n",
    "Ein Klick in die Zelle, zeigt die Syntax."
   ]
  },
  {
   "cell_type": "markdown",
   "metadata": {},
   "source": [
    "### Code im Text\n",
    "`print(\"Hello World\")`\n",
    "\n",
    "Oder als Block mit github-flavoured Syntax-Highlighting in verschiedenen Sprachen: \n",
    " ``` python\n",
    "print(\"Hello World\") \n",
    "```"
   ]
  },
  {
   "cell_type": "markdown",
   "metadata": {},
   "source": [
    "### Tabelle \n",
    "|Aktion | Befehl |\n",
    "|-----|-----|\n",
    "| Darstellung eines Zeichen erzwingen | \\ |\n",
    "| Zeilenumbruch erzwingen | `<br>` |"
   ]
  },
  {
   "cell_type": "markdown",
   "metadata": {},
   "source": [
    "### Links\n",
    "\n",
    "[Jupyter](https://jupyter.org)"
   ]
  },
  {
   "cell_type": "markdown",
   "metadata": {},
   "source": [
    "### Bilder\n",
    "Jupyter Logo direkt aus der Website:\n",
    "![Jupyter Logo Website](https://jupyter.org/assets/main-logo.svg)\n",
    "\n",
    "Jupyter Logo aus lokalem Ordner:\n",
    "![Jupyter Logo Website](jupyter_logo.svg)"
   ]
  },
  {
   "cell_type": "markdown",
   "metadata": {},
   "source": [
    "### Zitate\n",
    "\n",
    "> Falls Gott die Welt geschaffen hat, war seine Hauptsorge sicher nicht, sie so zu machen, dass wir sie verstehen können. \n",
    "\n",
    "Albert Einstein"
   ]
  },
  {
   "cell_type": "markdown",
   "metadata": {},
   "source": [
    "### Schrift\n",
    "\n",
    "**Es gibt fetten Text**\n",
    "*und Krusiven.*"
   ]
  },
  {
   "cell_type": "markdown",
   "metadata": {},
   "source": [
    "### Latex\n",
    "\n",
    "Latex funktionier innerhalb einer Zeile : $e^x = \\sum^\\infty_{i=0} \\frac{x^i}{i!}$, oder in eigener Zeile: $$e^x = \\sum^\\infty_{i=0} \\frac{x^i}{i!}$$"
   ]
  },
  {
   "cell_type": "markdown",
   "metadata": {},
   "source": [
    "### Listen\n",
    "\n",
    "Numerirte Liste: \n",
    "1. Punkt\n",
    "2. Punkt\n",
    "\n",
    "Unnummerierte Liste:\n",
    "* Punkt\n",
    "* Punkt"
   ]
  },
  {
   "cell_type": "markdown",
   "metadata": {},
   "source": [
    "### horizontale Linie\n",
    "---"
   ]
  },
  {
   "cell_type": "markdown",
   "metadata": {},
   "source": [
    "Neben den hier aufgeführten Befehlen kann auch HTML verwendet werden. Desweiteren funktionieren auch viele Latex-Befehle."
   ]
  },
  {
   "cell_type": "markdown",
   "metadata": {},
   "source": [
    "## Magix-Befehle\n",
    "Magix-Befehle ermöglichen die Kommunikation mit dem Kernel des Notebooks. Mit einem vorangestelltem '%' gelten sie für die folgende Zeile, mit zwei '%%' für die Zelle, in der sie stehen. Eine Beschreibung der Standartbefehle kann [hier](https://ipython.readthedocs.io/en/stable/interactive/magics.html) gefunden werden. Weitere Befehle kommen durch externe Erweiterungen hinzu.\n",
    "\n",
    "| Befehl | Beschreibung |\n",
    "|--------|--------------|\n",
    "| `%%time`| misst die Ausführungsdauer einer Zelle |\n",
    "| `%who` | listet aktuelle Variablen auf |\n",
    "| `%matplotlib inline` | Plots werden als als Bild am Ende der Zelle ausgegeben (Standartverhalten) |\n",
    "| `%matplotlib widget` | Plots werden in einem interaktiven Widget dargestellt. |\n",
    "| `%system <command> ` | führt command als shell Befehl aus |\n",
    "| `%precision <num> `  | setzt Ausgabepräzision für Gleitkommazahlen |\n",
    "| `%%capture --no-stderr --no-display` | unterdrück Ausgaben der Zelle |"
   ]
  }
 ],
 "metadata": {
  "kernelspec": {
   "display_name": "Python 3 (ipykernel)",
   "language": "python",
   "name": "python3"
  },
  "language_info": {
   "codemirror_mode": {
    "name": "ipython",
    "version": 3
   },
   "file_extension": ".py",
   "mimetype": "text/x-python",
   "name": "python",
   "nbconvert_exporter": "python",
   "pygments_lexer": "ipython3",
   "version": "3.9.6"
  }
 },
 "nbformat": 4,
 "nbformat_minor": 4
}
