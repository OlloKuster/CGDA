{
 "cells": [
  {
   "cell_type": "markdown",
   "metadata": {},
   "source": [
    "# Computergestützte Datenauswertung\n",
    "\n",
    "\n",
    "## Jupyter Notebook Vorlage\n",
    "\n",
    "\n",
    "Diese Datei vom Typ `.ipynb` enthält ein Tutorial als `jupyter notebook`.\n",
    "`jupyter` bietet eine Browser-Schnittstelle mit einer (einfachen) Entwicklungsumgebung\n",
    "für `python`-Code und erklärende Texte im intiuitiven *markdown*-Format. Die Eingabe von Formeln im `LaTeX`-Format wird ebenfalls unterstützt. Code und Text werden in jeweils einzelne Zellen eingegeben. \n",
    "\n",
    "Aktive Zellen werden durch einen blauen Balken am Rand angezeigt. Sie können sich in zwei Zuständen befinden: im Edit-Mode ist das Eingabefeld weiß, im Command-Mode ist es\n",
    "ausgegraut. Durch Klicken in den Randbereich wird der Command-Modus gewält, ein Klick \n",
    "in das Textfeld einer Code-Zelle schaltet in den Edit-Mode. Die Taste `esc` kann\n",
    "ebenfalls verwendet werden, um den Edit-Modus zu verlassen. \n",
    "\n",
    "Eingabe von `a` im Command-Mode erzeugt eine neue leere Zelle oberhalb der aktiven Zelle,\n",
    "`b` eine unterhalb. Eingabe von `dd` löscht die betreffende Zelle.\n",
    "\n",
    "Zellen können entweder den Typ `Markdown` oder `Code` haben. Die Eingabe von `m` im Command-Modus setzt den Typ Markdown, Eingabe von `y` wählt den Typ Code.\n",
    "\n",
    "Prozessiert - also Text gesetzt oder Cocde ausgeführt - wird er Zelleninhalt durch \n",
    "Eingabe von `shift+return`, oder auch `alt+return` wenn zusätzliche eine neue, leere Zelle erzeugt werden soll. \n",
    "\n",
    "Die hier genannten Einstellungen sowie das Einfügen, Löschen oder Ausführen von Zellen können auch über das PullDown-Menü am oberen Rand ausgeführt werden. \n",
    "\n",
    "---\n"
   ]
  },
  {
   "cell_type": "markdown",
   "metadata": {},
   "source": [
    "## Python Spickzettel\n",
    "\n",
    "Im Folgenden werden die wichtigsten, für unseren Kurs relevanten Elemente der Sprache `python` und wichtiger `python`-Pakte vorgestellt.\n",
    "\n",
    "**Grundsätzliches:**  \n",
    "\n",
    "| \n",
    "| :--- |\n",
    "| Code wird über Einrückungen strukturiert \n",
    "| Code im gleichen Anweisungsblock ist gleich weit eingerückt \n",
    "| Kommentare werden mit # eingeleitet \n",
    "| '''    text   '''  markiert einen Kommentarblock \n",
    "    \n"
   ]
  },
  {
   "cell_type": "markdown",
   "metadata": {},
   "source": [
    "**Code importieren:**\n",
    "\n",
    "\n",
    "| Code                          |       Bedeutung                |       Beispiel            |\n",
    "|  :---                         | :--- | :--- |\n",
    "| `import <Paket>`              | Software aus Paket importieren | `import numpy` |\n",
    "|             &nbsp;            | Aufruf von Funktion des Pakets | `numpy.sin(x)` | \n",
    "| `from <Paket> import <Modul>` |     &nbsp;              | `from numpy import sin` |\n",
    "|             &nbsp;            | Aufruf von Funktion des Pakets | `sin(x)`  |\n",
    "| `import <Paket> as np`        | Importieren mit Kurznamen  | `np.sin(x)` |"
   ]
  },
  {
   "cell_type": "markdown",
   "metadata": {},
   "source": [
    "**Rechenoperationen**\n",
    "\n",
    "| &nbsp; | &nbsp; | &nbsp;\n",
    "| :--- | :---: | :--------------------|\n",
    "| Zuweisung:         | `         =         `| `a = 3`\n",
    "| Grundrechenarten:\t | `+`  `-`  `*`  `/`   | `x + 3`, `a * b`, …  \n",
    "| Rest bei Division: | \t`%`   \t            | `17 % 3`\n",
    "| Potenzieren: \t     |\t`**` \t\t        | `2 ** 3`  \n"
   ]
  },
  {
   "cell_type": "code",
   "execution_count": null,
   "metadata": {},
   "outputs": [],
   "source": [
    "# hier bitte ausprobieren !\n",
    "\n"
   ]
  },
  {
   "cell_type": "markdown",
   "metadata": {},
   "source": [
    "**Mathematische Funktionen (auch für Arrays):**\n",
    "\n",
    "| &nbsp; |\t`import numpy`        | &nbsp;\n",
    "| :--- | :--- | :--- |\n",
    "|Konstanten:| `numpy.pi`, `numpy.e`, `numpy.euler_gamma` |\n",
    "|Funktionen:| `numpy.sqrt(x)`, `numpy.exp(x)`, `numpy.log(x)`, `numpy.log10(x)`\n",
    "|&nbsp; | `numpy.sin(x)`,  `numpy.cos(x)`, `numpy.tan(x)`\n",
    "|&nbsp;    | `numpy.sinh(x)`, `numpy.cosh(x)`, …,\n",
    "|Betrag, Runden:| `numpy.abs(x)`,  `numpy.around(x)` \n",
    "|Typumwandlung:\t    | `numpy.int_(x)`, `numpy.float_(x)`| (Ganze Zahl↔ Fließkommazahl)\n"
   ]
  },
  {
   "cell_type": "code",
   "execution_count": null,
   "metadata": {},
   "outputs": [],
   "source": [
    "# hier ausprobieren !\n",
    "import numpy\n",
    "# ->>\n"
   ]
  },
  {
   "cell_type": "markdown",
   "metadata": {},
   "source": [
    "**Datentypen**\n",
    "\n",
    "| &nbsp; | &nbsb; | &nbsp; |  &nbsp;\n",
    "| :--- | :---| :--- | --- |\n",
    "|`bool` | Wahrheitswert | `True`, `False` | \n",
    "|`int`  | Ganze Zahl | `23456` |\n",
    "|`float` | Fließkommazahl | `3.1415` |   \n",
    "|`complex`| Komplexe Zahl | `1.+2.j` |\n",
    "|`str`  | Zeichenkette (String) | `'Hallo'` |\n",
    "|`tuple` | Tuple | `(1, 3, 5)`   | Tuples sind nicht veränderbar ! |\n",
    "|`list` | Liste | `[1, 3, 5]`    | Listen sind veränderbar: `a[1] = 2`|\n",
    "| &nbsp;  | &nbsp;  | `range(5)` → `[0, 1, 2, 3, 4]`\n",
    "|`dictionary` |Key-Value-Paare | `{zahl:5, text:'Hi'}`\n",
    "|`numpy.array` | numpy-Array | `numpy.array( [1., 3., 5.] )`\n",
    "|&nbsp; | erlaubt Vektoroperationen: | `x = numpy.array( [1, 2, 3] )` |  `x ** 2` → `array([1, 4, 9])`\n",
    "|&nbsp; | `a = numpy.array( [1, 4, 9] )` | `numpy.sqrt(a)` → `array([1, 2, 3])`\n",
    "|&nbsp; | `a = numpy.array( [1, 2 , 3] )` | `b = numpy.array( [2, 3, 4] )` | `a * b`  → `array([2, 6, 12])`\n",
    "\n"
   ]
  },
  {
   "cell_type": "code",
   "execution_count": null,
   "metadata": {},
   "outputs": [],
   "source": [
    "# hier ausprobieren !\n"
   ]
  },
  {
   "cell_type": "markdown",
   "metadata": {},
   "source": [
    "**Listen und Felder (Arrays)**\n",
    "\n",
    "| &nbsp; | &nbsp; | &nbsp; |  &nbsp;\n",
    "| :--- | :---| :--- | --- |\n",
    "|`l = [2, 4, 6, 8, 10]` | `len(l)` |  Länge der Liste\n",
    "|`l[0]` | das erste Element | `l.append(<Element>)` | Element  anhängen\n",
    "|`l[-1]`| das letzte Element | `l.insert(<index>,<Element>)`| einsetzen\n",
    "|`l[2:4]`| \tListe der Elemente 2 bis 3 | `l.remove(<Element>)` | \tElement entfernen\n",
    "|`range(5,8)`|  → `[5, 6, 7]` | `l.index(<Element>)` |  Index von Element\n",
    "|`range(0,6,2)`| → `[0, 2, 4]` | `l.sort()`  | Liste sortieren\n",
    "| &nbsp; \n",
    "|`import numpy as np`\n",
    "|`np.zeros(5)`|  → `array([0., 0., 0., 0., 0., 0.])`\n",
    "|`np.ones(3)`|  → `array([1., 1., 1.])`\n",
    "|`np.linspace(0., 2., 5)`| → `array(0., 0.5, 1., 1.5, 2.)`\n",
    "|`np.arange(0., 2., 0.5)`| → `array(0., 0.5, 1., 1.5)`\n",
    "\n",
    "\n"
   ]
  },
  {
   "cell_type": "code",
   "execution_count": null,
   "metadata": {},
   "outputs": [],
   "source": [
    "# hier ausprobieren !\n"
   ]
  },
  {
   "cell_type": "markdown",
   "metadata": {},
   "source": [
    "**Kontrollstrukturen**\n",
    "\n",
    "|Schleifen: | &nbsp;&nbsp;&nbsp; |Verzweigungen: |\n",
    "| :--- | :---| :--- | \n",
    "|`for variable in range(n):`     | &nbsp; | `if <Bedingung>:`\n",
    "|&nbsp;&nbsp;`<Anweisungsblock>` | &nbsp; | &nbsp;&nbsp;`<Anweisungsblock>`\n",
    "|`for variable in <Liste>:`      | &nbsp; | `if <Bedingung>:`\n",
    "|&nbsp;&nbsp;`<Anweisungsblock>` | &nbsp; | &nbsp;&nbsp;`<Anweisungsblock>`\n",
    "| &nbsp;                         | &nbsp; | `else:`\n",
    "|`while <Bedingung>:`            | &nbsp; | &nbsp;&nbsp;`<Anweisungsblock>`\n",
    "|&nbsp;&nbsp;`<Anweisungsblock>` |\n",
    "| &nbsp;                         | &nbsp; | `if <Bedingung1>:`\n",
    "| &nbsp;                         | &nbsp; | &nbsp;&nbsp;`<Anweisungsblock>`\n",
    "| Eine Schleife kann mit `break` | &nbsp; | `elif <Bedingung2>:`\n",
    "| abgebrochen werden             | &nbsp; | &nbsp;&nbsp;`<Anweisungsblock>`\n",
    "| &nbsp;                         | &nbsp; | `else:`\n",
    "| Der Anweisungsblock kann mit   | &nbsp; | &nbsp;&nbsp;`<Anweisungsblock>`\n",
    "| `continue` übersprungen werden | &nbsp; | Verknüpfung von Bedingungen: \n",
    "| &nbsp;                         | &nbsp; | `if x < 7 and x != 5`\n",
    "| &nbsp;                         | &nbsp; | `if x == 2 or x == 4`\n"
   ]
  },
  {
   "cell_type": "code",
   "execution_count": null,
   "metadata": {},
   "outputs": [],
   "source": [
    "# hier ausprobieren !\n"
   ]
  },
  {
   "cell_type": "markdown",
   "metadata": {},
   "source": [
    "**Funktionen**\n",
    "\n",
    "| Definition                       | &nbsp; &nbsp; &nbsp; | Beispiel\n",
    "| :--- | :---| :--- | \n",
    "| `def name(Parameter):`           | &nbsp; | `def maximum(x,y):`\n",
    "| &nbsp;&nbsp;`<Anweisungsblock>`  | &nbsp; | &nbsp;&nbsp;`if x >= y:`\n",
    "| &nbsp;                           | &nbsp; | &nbsp;&nbsp;&nbsp;&nbsp;`return x`\n",
    "| Aufruf:                          | &nbsp; | &nbsp;&nbsp;`else:`\n",
    "|`name(Parameter)`                 | &nbsp; | &nbsp;&nbsp;&nbsp;&nbsp; `return y`\n",
    "\n",
    "Funktionen können beliebig viele Parameter haben. Klammern sind immer notwendig, auch wenn keine Parameter vorhanden sind\n",
    "\n",
    "`return` beendet eine Funktion und gibt einen Wert zurück. Eine Funktion muss keinen Rückgabewert haben.\n",
    "\n",
    "Variablen im aufrufenden Programm sind in Funktionen nur lesbar. Wenn eine Variable verändert werden soll, muss sie mit `global <Variable>` in der Funktion definiert werden.\n",
    "\n",
    "\n"
   ]
  },
  {
   "cell_type": "code",
   "execution_count": null,
   "metadata": {},
   "outputs": [],
   "source": [
    "# hier ausprobieren !\n"
   ]
  },
  {
   "cell_type": "markdown",
   "metadata": {},
   "source": [
    "**Ein- und Ausgabe**\n",
    "\n",
    "| Code                       | &nbsp; &nbsp; &nbsp; | Beispiel\n",
    "| :--- | :---| :--- | \n",
    "|`input([prompt])` | &nbsp; | `x = input(\"Welche Zahl?\")`\n",
    "|`print(x)`        | &nbsp; | `print(\"Die Antwort ist: \", 6*7)`\n"
   ]
  },
  {
   "cell_type": "code",
   "execution_count": null,
   "metadata": {},
   "outputs": [],
   "source": [
    "# hier ausprobieren !\n",
    "\n"
   ]
  },
  {
   "cell_type": "markdown",
   "metadata": {},
   "source": [
    "**Zufallszahlen und Statistik**\n",
    "\n",
    "Im Modul `numpy.random`  gibt es Funktionen zum Erzeugen von Zufallszahlen\n",
    "\n",
    "| Code                      | &nbsp; &nbsp; &nbsp; | Bedeutung\n",
    "| :--- | :---| :--- |\n",
    "| `import numpy as np` |\n",
    "| `np.random.random()`           | &nbsp; | Zufallszahl zwischen 0. und 1.\n",
    "| `np.random.random(10)`         | &nbsp; | Array mit 10 Zufallszahlen zwischen 0. und 1.\n",
    "| `np.random.normal()`           | &nbsp; | gaußverteilte Zufallszahl mit Mittelwert 0. und Streuung 1.\n",
    "| `np.random.normal(1., 2., 10)` | &nbsp; | Array mit 10 gaußverteilten Zufallszahlen  Mittelwert 1, Streuung 2\n",
    "| &nbsp; |\n",
    "| `data = np.random.rand(100)`   |\n",
    "| `np.sum(data)`                 | &nbsp;  | Berechnet Summe der Elemente von `data`\n",
    "| `np.std(data)`                 | &nbsp; | Berechnet Standardabweichung der Elemente\n",
    "| `bc, be = np.histogram(data, nbins)` | &nbsp; | Berechnet Histogramm für `nbins`  Intervalle:\n",
    "| &nbsp;                         | &nbsp; | `bc`:  Häufigkeiten,  `be`:  Intervallgrenzen \n",
    "\n"
   ]
  },
  {
   "cell_type": "code",
   "execution_count": null,
   "metadata": {},
   "outputs": [],
   "source": [
    "# hier ausprobieren !\n"
   ]
  },
  {
   "cell_type": "markdown",
   "metadata": {},
   "source": [
    "**Visualisierung**\n",
    "\n",
    "Das Modul matplotlib.pyplot enthält viele grafische Funktionen\n",
    "\n",
    "| Code                       | &nbsp; &nbsp; &nbsp; | Bedeutung\n",
    "| :--- | :---| :--- | \n",
    "|`import matplotlib.pyplot as plt`  | &nbsp; | \n",
    "|`plt.plot(x, y)`                   | &nbsp; | Array y gegen Array x auftragen\n",
    "|`plt.errorbar(x,y, yerr=<val>, fmt='ro')` | &nbsp; | Datenpunkte (x, y) mit Fehlerbalken\n",
    "|`plt.bar(x, y, align='center')`    | &nbsp; | Balkendiagramm\n",
    "|`bc, be, p = plt.hist(data, bins)` | &nbsp; | Histogramm\n",
    "| &nbsp;                            | &nbsp; | (`bc`:  Häufigkeiten,  `be`:  Intervallgrenzen)\n",
    "|`plt.show()`                       | &nbsp; | Grafik auf Bildschirm anzeigen\n",
    "|`plt.savefig(<Dateiname>)`         | &nbsp; | Grafik in Datei abspeichern\n",
    "\n",
    "Beispiel:\n",
    "```\n",
    "import numpy as np\n",
    "import matplotlib.pyplot as plt\n",
    "x = np.linspace(0.001, 10., 200)\n",
    "y = np.sin(np.pi * x) / x\n",
    "plt.plot(x, y)\n",
    "plt.show()\n",
    "```\n",
    "\n",
    "Beschriftungen:\n",
    "\n",
    "| Code                       | &nbsp; &nbsp; &nbsp; | Bedeutung\n",
    "| :--- | :---| :--- | \n",
    "|`plt.xlabel(Text)`       |  &nbsp; | Beschriftung der x-Achse\n",
    "|`plt.ylabel(Text)`       |  &nbsp; | Beschriftung der y-Achse\n",
    "|`plt.title(Text)`        |  &nbsp; | Titel des Graphen\n",
    "|`plt.colorbar()`         |  &nbsp; | Schaltet Farbbalken ein\n",
    "|`plt.legend(Position)`   |  &nbsp; | Schaltet Legende ein \n",
    "|  &nbsp;                 |  &nbsp; | (Position: `'best'`, `'upper right'`, `'lower left'`, etc.) \n",
    "\n",
    "für komplexere Darstellung: \n",
    "\n",
    "| Code                       | &nbsp; &nbsp; &nbsp; | Bedeutung\n",
    "| :--- | :---| :--- | \n",
    "| `fig = plt.figure(<Name>, figsize=(x,y) )`  | \n",
    "| `ax = fig.add_subplot(c,r,n)`  | &nbsp; |  Sub-Plot erzeugen (`c`: Spalten, `r`: Reihen, `n`: Nummer)\n",
    "| `ax.plot(x,y, label=<txt>)`   | &nbsp; | `array`s x und y darstellen, _Label_ defieren\n",
    "| `ax.set_title(<name>)`      | &nbsp; |  Titel setzen\n",
    "| `ax.set_xlabel()`          | &nbsp; |   Achsenbeschriftung _x_\n",
    "| `ax.set_ylabel()`         | &nbsp; | Achsenbeschriftung _y_\n",
    "| `ax.set_xlim()`          | &nbsp; | Grenzen _x_\n",
    "| `ax,set_ylim()`         | &nbsp; |  Grenzen _y_\n",
    "| `ax.legend()`          | &nbsp; |  Legende anzeigen\n",
    "| `ax.grid(True)`        | &nbsp; |  Grid erzeugen\n",
    "| `ax.text(x,y, <text>)` | &nbsp; | Text an Position `x` und `y` setzen\n",
    "\n",
    "\n"
   ]
  },
  {
   "cell_type": "code",
   "execution_count": null,
   "metadata": {},
   "outputs": [],
   "source": [
    "# hier ausprobieren\n",
    "%matplotlib inline\n",
    "# -> eigener Code -> \n"
   ]
  },
  {
   "cell_type": "markdown",
   "metadata": {},
   "source": [
    "### vorläufiges Ende "
   ]
  }
 ],
 "metadata": {
  "kernelspec": {
   "display_name": "Python 3 (ipykernel)",
   "language": "python",
   "name": "python3"
  },
  "language_info": {
   "codemirror_mode": {
    "name": "ipython",
    "version": 3
   },
   "file_extension": ".py",
   "mimetype": "text/x-python",
   "name": "python",
   "nbconvert_exporter": "python",
   "pygments_lexer": "ipython3",
   "version": "3.9.6"
  }
 },
 "nbformat": 4,
 "nbformat_minor": 4
}
