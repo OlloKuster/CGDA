{
 "cells": [
  {
   "cell_type": "markdown",
   "id": "1fd81619-d1f6-4fed-ad89-afeeb93761d1",
   "metadata": {},
   "source": [
    "# Python Basics"
   ]
  },
  {
   "cell_type": "markdown",
   "id": "37c1fc85-8820-4327-b27c-569eaf6c17df",
   "metadata": {},
   "source": [
    "Vorlesung \"Computergestützte Datenauswertung (CgDa)\" Sommersemester 2022  \n",
    "Dozent: Prof. Dr. Torben Ferber (torben.ferber@kit.edu)"
   ]
  },
  {
   "cell_type": "markdown",
   "id": "c767cc09-5213-4aa8-93cd-a708d598c89a",
   "metadata": {},
   "source": [
    "Tipp: JupyterCheatsheet.ipynb hat viele nützliche Tricks um Ihnen den Einstieg zu erleichtern..."
   ]
  },
  {
   "cell_type": "markdown",
   "id": "ede84757-da09-496f-9a1f-95439c6543e1",
   "metadata": {},
   "source": [
    "## Variablen"
   ]
  },
  {
   "cell_type": "markdown",
   "id": "5a312fc5-59fb-4b64-ad99-efb3a013cb41",
   "metadata": {},
   "source": [
    "Python kann als (aufwendiger) Taschenrechner verwendet werden."
   ]
  },
  {
   "cell_type": "code",
   "execution_count": 1,
   "id": "3ad26216-dff3-4456-aac4-7b5d4168baa7",
   "metadata": {},
   "outputs": [],
   "source": [
    "# Beispiel\n",
    "# 3 + 5 * 12\n"
   ]
  },
  {
   "cell_type": "markdown",
   "id": "ff7708f6-5d24-45f0-80fa-2bc7db023eed",
   "metadata": {},
   "source": [
    "Um Rechenergebnisse zwischenzuspeichern verwenden ordnen wir Informationen Variablen zu (engl. assign a value)."
   ]
  },
  {
   "cell_type": "code",
   "execution_count": 28,
   "id": "c9921192-304f-4322-91dc-73ca6302fa37",
   "metadata": {},
   "outputs": [],
   "source": [
    "#breite = 30\n"
   ]
  },
  {
   "cell_type": "markdown",
   "id": "b68840e8-f8bd-47b0-88d2-cf79da7cd973",
   "metadata": {},
   "source": [
    "Ab jetzt koennen sie diese Variable als Namen für den Wert benutzen."
   ]
  },
  {
   "cell_type": "markdown",
   "id": "cc4d1de3-0c96-4cb0-9784-2689997ae367",
   "metadata": {},
   "source": [
    "Variablennamen sind case-sensitive (`breite` und `Breite` sind unterschiedliche Variablen).  \n",
    "Variablennamen dürfen nicht mit einer Zahl beginnen, wohl aber Zahlen enthalten (`breite1` ist erlaubt, `1breite` nicht).  "
   ]
  },
  {
   "cell_type": "markdown",
   "id": "1e43198b-ac51-4e5b-bfe8-78ea3324c9ab",
   "metadata": {},
   "source": [
    "## Datentypen"
   ]
  },
  {
   "cell_type": "markdown",
   "id": "10d765fb-a5c1-412e-908c-7ede7737da79",
   "metadata": {},
   "source": [
    "Python kennt sehr viele verschiedene Datentypen um z.B. Zeichenketten, Ganzzahlen, Gleitkommazahlen, oder komplexe Zahlen zu verarbeiten.  \n",
    "Sie müssen den Datentyp nicht festlegen, Python erkennt ihn selbst anhand ihrer Zuweisung."
   ]
  },
  {
   "cell_type": "code",
   "execution_count": 39,
   "id": "a9e96573-b1bb-4055-8fca-ed82d7299996",
   "metadata": {},
   "outputs": [],
   "source": [
    "#name = 'ferber'\n",
    "#breite_ganzzahl = 30 # Ganzzahl\n",
    "#breite_gleitkommazahl = 30.0 # Gleitkommazahl\n",
    "#komplexe_zahl = 10.2 + 1.2j\n"
   ]
  },
  {
   "cell_type": "markdown",
   "id": "ba613321-7142-49b5-a263-1163bb5a8e27",
   "metadata": {},
   "source": [
    "## Funktionen"
   ]
  },
  {
   "cell_type": "markdown",
   "id": "ecbe7f5c-76f8-4199-8fe5-2b4a6276d2ae",
   "metadata": {},
   "source": [
    "Funktionen sind Programmblöcke die einen, oder mehrere - oder keinen - Einganswert bekommen, und einen, oder mehrere - oder keinen - Wert zurückliefern.  \n",
    "Diese Eingabewerte werden immer in runden Klammern übergeben.  \n",
    "Einige Funktionen werden von python mitgliefert (sog. ```built-in``` Funktionen, die bekannteste davon ist die ```print()``` Funktion."
   ]
  },
  {
   "cell_type": "markdown",
   "id": "e8223f4a-d4f3-4217-8e16-7665d99b80e5",
   "metadata": {},
   "source": [
    "### print()"
   ]
  },
  {
   "cell_type": "code",
   "execution_count": 2,
   "id": "e92a42fb-87b5-450d-87e4-f509b8ff6c1c",
   "metadata": {},
   "outputs": [
    {
     "data": {
      "text/plain": [
       "10.0"
      ]
     },
     "execution_count": 2,
     "metadata": {},
     "output_type": "execute_result"
    }
   ],
   "source": [
    "breite = 10.0\n",
    "# print(breite) # Übergebe der built-in Funktion print() die Variable ```breite``` um sie auf dem Bildschirm anzuzeigen\n"
   ]
  },
  {
   "cell_type": "code",
   "execution_count": 58,
   "id": "398db47f-75ae-474d-bc31-c354f5d6ab1f",
   "metadata": {},
   "outputs": [],
   "source": [
    "# breite = 30.0 #Einheit: cm\n",
    "# laenge = 1.0 #Einheit: m\n",
    "\n",
    "# print('Die Breite des Tisches ist', breite, 'cm', ' und die Länge ist', laenge, 'm')\n"
   ]
  },
  {
   "cell_type": "markdown",
   "id": "483191e9-3050-46a1-9939-26b09cacdac0",
   "metadata": {},
   "source": [
    "Die ```print()``` ist so wichtig, dass es bessere Arten gibt sie zu nutzen:"
   ]
  },
  {
   "cell_type": "code",
   "execution_count": 74,
   "id": "9d99c446-ddcc-4d0e-8d7f-aaa6a7fb2b15",
   "metadata": {},
   "outputs": [],
   "source": [
    "# \"formatted string literal\" und wird mit einem f vor der Zeichenkette benutzt:\n",
    "# print(f'Die Breite des Tisches ist {breite} cm und die Länge ist {laenge * 100} cm')\n"
   ]
  },
  {
   "cell_type": "code",
   "execution_count": 78,
   "id": "7d684178-2214-4e37-9faa-13f6c730610f",
   "metadata": {},
   "outputs": [],
   "source": [
    "#.format erlaubt es die dargestellte (!) Genaugkeit von z.B. Gleitkommazahlen festzulegen:\n",
    "# print('Die Breite des Tisches ist {:.2f} cm und die Länge ist {:.2f} cm'.format(breite, laenge * 100))\n"
   ]
  },
  {
   "cell_type": "markdown",
   "id": "a9a86c89-e2b8-49a5-a8f5-c8d0546317e3",
   "metadata": {},
   "source": [
    "### type()"
   ]
  },
  {
   "cell_type": "markdown",
   "id": "4deed12f-82c6-44e4-966a-77bb5b06f8c1",
   "metadata": {},
   "source": [
    "Um zu Wissen welcher Datentyp eine Variable ist, gibt es die ```build-in``` Funktion ```type()```"
   ]
  },
  {
   "cell_type": "code",
   "execution_count": 84,
   "id": "3eaa4883-2b42-410d-b337-939263e24878",
   "metadata": {},
   "outputs": [],
   "source": [
    "# print(type(breite))\n"
   ]
  },
  {
   "cell_type": "markdown",
   "id": "552fc743-8daf-4800-ba22-fcadb6f3826d",
   "metadata": {},
   "source": [
    "Funktionen können selbst Funktionen aufrufen (z.B. ```print(type())```), sie können ausserdem innerhalb der Parameterübergabe Rechenoperationen durchführen (z.B. ```print(3 + 5)``` oder ```print(breite * 2.4)```)"
   ]
  },
  {
   "cell_type": "markdown",
   "id": "ee036261-845a-43ce-b2c3-4486d7333bfc",
   "metadata": {},
   "source": [
    "### Eigene Funktionen"
   ]
  },
  {
   "cell_type": "markdown",
   "id": "856bb1de-f221-434d-9aa4-de51ae5e2b4c",
   "metadata": {},
   "source": [
    "Sie können eigene Funktionen definieren indem sie 'def' benutzen:"
   ]
  },
  {
   "cell_type": "code",
   "execution_count": 1,
   "id": "8d18100a-7e4d-4cb5-908b-f5062adf0a2b",
   "metadata": {},
   "outputs": [],
   "source": [
    "# def addiere_quadratisch(x, y):\n",
    "#     summe = x**2 + y**2\n",
    "#     return summe\n",
    "\n",
    "# print(addiere_quadratisch(5, 8))\n"
   ]
  },
  {
   "cell_type": "markdown",
   "id": "7e523f65-ae0f-4935-ae3e-fbfd8a64acdc",
   "metadata": {},
   "source": [
    "## Variablennutzung"
   ]
  },
  {
   "cell_type": "markdown",
   "id": "d506c011-e26d-48a3-ab2d-6cec1a023d3e",
   "metadata": {},
   "source": [
    "Variablen ändern sich nicht durch Benuztung!"
   ]
  },
  {
   "cell_type": "code",
   "execution_count": 90,
   "id": "5be3b8ee-5b41-43bb-8522-267bceed0fe2",
   "metadata": {},
   "outputs": [],
   "source": [
    "# a = 2\n",
    "# b = 4\n",
    "# print(a)\n",
    "# print(b)\n",
    "\n",
    "# b = a\n",
    "# print(a)\n",
    "# print(b)\n",
    "\n",
    "# a = 5\n",
    "# print(a)\n",
    "# print(b)\n"
   ]
  },
  {
   "cell_type": "markdown",
   "id": "e462caf7-0345-4681-a0af-1c3741cad6aa",
   "metadata": {},
   "source": [
    "## Markdown und Kommentare"
   ]
  },
  {
   "cell_type": "markdown",
   "id": "428a1fbb-feeb-4a7e-9125-4808e4514bc3",
   "metadata": {},
   "source": [
    "Jupyter unterstützt das direkte Schreiben von Dokumentation als Text im sog. \"Markdown\" Modus.  \n",
    "Dafür muss die Zelle vom Modus \"Code\" in den Modus \"Markdown\" gesetzt werden.  \n",
    "Sie können $\\LaTeX$ verwenden indem sie im Markdown Modus Text in Dollarzeichen (ohne die Anführungszeichen) einschließen \"$TEXT\"."
   ]
  },
  {
   "cell_type": "code",
   "execution_count": null,
   "id": "16d26d1c-7465-42cb-bc78-7090a11d6bc2",
   "metadata": {},
   "outputs": [],
   "source": []
  },
  {
   "cell_type": "markdown",
   "id": "2158fc2c-50b8-4a55-9055-639f963bcd5a",
   "metadata": {},
   "source": [
    "Sie werden oftmals auch Kommentare direkt im Code finden, und nicht als Markdown in Jupyter:"
   ]
  },
  {
   "cell_type": "code",
   "execution_count": 1,
   "id": "7ad097da-6915-4d8a-abc2-c5facc689e51",
   "metadata": {},
   "outputs": [],
   "source": [
    "# Das ist ein Kommentar im Code Modus. Es startet immer mit einem Hastag (deutsch Dopelkreuz)."
   ]
  },
  {
   "cell_type": "markdown",
   "id": "797ff313-0480-4413-beb6-67fc8b73016c",
   "metadata": {},
   "source": [
    "Sie sollten Ihren Code immer dokumentieren: Für ihr sie selbst in der Zukunft, für ihre Tutoren, und später v.a. auch für ihre Kolleginnen und Kollegen.  \n",
    "Beschreiben Sie immer ihre Absicht (das \"wieso\") und weniger/nicht die technischen Details (das \"wie\").  \n",
    "Vorsicht: Wenn sie ihren Code ändern, müssen sie evtl. auch die Dokumentation anpassen!"
   ]
  },
  {
   "cell_type": "code",
   "execution_count": 9,
   "id": "2a5b144a-e742-443e-9bd7-edf32f11dae6",
   "metadata": {},
   "outputs": [],
   "source": [
    "x = 1 # Deklariere eine Dummy-Variable damit das folgende Beispiel funktioniert\n",
    "\n",
    "# gut:\n",
    "# x ist ein Zähler der um eins erhöht wird falls ein Fehler auftritt\n",
    "x = x + 1\n",
    "\n",
    "# schlecht:\n",
    "# x wird um eins erhoeht. \n",
    "# In anderen Programmiersprachen wird in \"pre-increment\" and \"post-increment\" unterschieden\n",
    "# (siehe https://en.cppreference.com/w/cpp/language/operator_incdec)\n",
    "# weil wir hier zuerst um eins erhoehen und dann erst die Variable benutzen\n",
    "x = x + 1\n",
    "\n",
    "# auch schlecht:\n",
    "# x ist ein Zähler der um eins erhöht wird falls ein Fehler auftritt\n",
    "x = x - 1\n"
   ]
  },
  {
   "cell_type": "markdown",
   "id": "3d372203-568a-41a4-8438-62639f1a0cea",
   "metadata": {},
   "source": [
    "Beschreiben sie den Code emphatisch \"wie für einen Freund\", seien sie dabei kurz und knapp.  \n",
    "Wenn sie merken, dass ihre Dokumentation selbst sehr lang und kompliziert ist, bedeudet das i.A. das ihre Code zu kompliziert ist.  \n",
    "Gerade als Programmier-Neuling: Kommentieren sie lieber etwas zu viel als zu wenig."
   ]
  },
  {
   "cell_type": "markdown",
   "id": "506ca112-5683-4d19-a96d-6245651c3351",
   "metadata": {},
   "source": [
    "<b>Fortgeschritten:</b>  \n",
    "Nutzen Sie einen sog. docstring in allen Klassen und Funktionen in der ersten Zeile der jeweiligen Klasse oder Funktion:  \n",
    "```\n",
    "def fehlerzaehler(x):  \n",
    "    '''Diese Funktion inkrementiert einen Zähler.''' \n",
    "    return x+1\n",
    "```\n",
    "Sie können auf den docstring mit ```fehlerzaehler.__doc__``` zugreifen."
   ]
  },
  {
   "cell_type": "code",
   "execution_count": 81,
   "id": "21f6dd36-a56d-4e3d-94da-aedfb9e8672c",
   "metadata": {},
   "outputs": [],
   "source": [
    "# def func(x):\n",
    "#     ''' Funktion die eine Zahl zurueckgibt. '''\n",
    "#     print(x)\n",
    "# print(func.__doc__)"
   ]
  },
  {
   "cell_type": "markdown",
   "id": "804f8099-0af6-486f-bab5-dbda5baf7ed9",
   "metadata": {},
   "source": [
    "### Fortgeschritten: Coding conventions\n",
    "Wenn viele Leute am gleichen Code entwickeln sollte man sich auf Standards einigen: https://peps.python.org/pep-0008 und  https://www.youtube.com/watch?v=hgI0p1zf31k :-)"
   ]
  },
  {
   "cell_type": "markdown",
   "id": "6b5916c0-621d-4c36-9c01-932d41dcaeaa",
   "metadata": {},
   "source": [
    "# Rechenoperationen"
   ]
  },
  {
   "cell_type": "markdown",
   "id": "029ebfbc-37c9-4372-80a1-5d0c7eaccada",
   "metadata": {},
   "source": [
    "Python unterstützt alle gängigen (und nicht zo gängigen) Rechenoperationen und beherrscht Klammerregeln.\n",
    "\n",
    "- +, -, \\*, / : Grundrechenarten: 6 + 3*2 = 12\n",
    "- %: Modulo-Operation (Rest bei Ganzzahldivision): 10%3 = 1\n",
    "- \\**: Potenz: 2**3 = 8"
   ]
  },
  {
   "cell_type": "markdown",
   "id": "d6a3c39f-4d41-4650-9e9b-54cd2d6aebd7",
   "metadata": {},
   "source": [
    "# Zuweisungsoperatoren"
   ]
  },
  {
   "cell_type": "markdown",
   "id": "b26d2681-a0f7-4d3e-8725-b88dd3c88a95",
   "metadata": {},
   "source": [
    "Variablen können Werte zugewiesen werden, auch innerhalb einer Zeile:\n",
    "- x += 1 bedeutet x = x + 1\n",
    "- x -= 1 bedeutet x = x - 1\n",
    "- x \\*= 5 bedeutet x = x \\* 5\n",
    "- x \\\\= 5 bedeutet x = x \\\\ 5\n",
    "- usw."
   ]
  },
  {
   "cell_type": "markdown",
   "id": "bedb49b3-df86-46f3-8587-67c7fad2c463",
   "metadata": {},
   "source": [
    "# Vergleiche"
   ]
  },
  {
   "cell_type": "markdown",
   "id": "0f353748-4f0c-4f8c-b626-63036e7ad5f0",
   "metadata": {},
   "source": [
    "Python erlaubt Vergleiche zwischen Variablenwerten:\n",
    "- \\== : gleich: 3 == 3\n",
    "- \\!= : ungleich: 3 != 4\n",
    "- \\>: größer als: 4 > 3\n",
    "- \\>=: größer gleich als: 3 >= 3\n",
    "- \\<: kleiner als: 3 < 4\n",
    "- \\<: kleiner gleich als: 4 <= 4\n",
    "\n",
    "Vorsicht bei Vergleichen zwischen variablen mit verschiedenen Datentypen! \n",
    "\n",
    "Vorsicht: Nicht verwechseln mit dem Identitätsoperator ```is``` (z.B. ```a is b```)!"
   ]
  },
  {
   "cell_type": "markdown",
   "id": "ff939907-89b7-4317-a423-a643173b79f8",
   "metadata": {},
   "source": [
    "# Logikoperatoren"
   ]
  },
  {
   "cell_type": "markdown",
   "id": "f71a0e3b-204d-403a-bbab-ac0f0dd214c0",
   "metadata": {},
   "source": [
    "Python erlaubt Logikvergleiche zwischen Variablen:\n",
    "- ```and```: Gibt ```True``` zurück wenn alle Vergleiche wahr sind: (3 > 4) and ( 21 <= 20) -> False\n",
    "- ```or```: Gibt ```True``` zurück wenn mindestens ein Vergleich wahr ist: (3 > 4) or ( 17 <= 20) -> True\n",
    "- ```not```: Invertiert das Ergebnis eines Vergleiches: not((3 > 4) or ( 17 <= 20)) -> False\n"
   ]
  },
  {
   "cell_type": "markdown",
   "id": "c329b249-00de-47ca-95ff-7cd6ea4b44f1",
   "metadata": {},
   "source": [
    "# Zusammenfassung"
   ]
  },
  {
   "cell_type": "markdown",
   "id": "73ef58e7-6e02-4ff5-a463-a6c5de85e4d5",
   "metadata": {},
   "source": [
    "- Datentypen in Python können z.B. ganze Zahlen, Gleitkommazahlen, oder Zeichenketten sein\n",
    "- Variablen müssen einem Wert zugeordnet werden\n",
    "- Variablen ändern ihren Wert nicht solange man ihn nicht neu zuordnet (ACHTUNG: in Jupyter gelten Variablen auch ausserhalb der Zelle in der sie zugeordnet wurden)\n",
    "- print() zeigt den Wert der übergebenen Variable auf dem Bildschirm an\n",
    "- Python beherrscht alle Grundrechenarten, Vergleiche und Logikoperationen"
   ]
  }
 ],
 "metadata": {
  "kernelspec": {
   "display_name": "Python 3 (ipykernel)",
   "language": "python",
   "name": "python3"
  },
  "language_info": {
   "codemirror_mode": {
    "name": "ipython",
    "version": 3
   },
   "file_extension": ".py",
   "mimetype": "text/x-python",
   "name": "python",
   "nbconvert_exporter": "python",
   "pygments_lexer": "ipython3",
   "version": "3.9.6"
  }
 },
 "nbformat": 4,
 "nbformat_minor": 5
}
