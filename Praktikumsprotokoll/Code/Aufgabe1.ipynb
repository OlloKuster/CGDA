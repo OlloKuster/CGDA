{
 "cells": [
  {
   "cell_type": "markdown",
   "id": "690ee230",
   "metadata": {},
   "source": [
    "# Messung der Strom-Spannung Kennlinie eines Photowiderstandes\n",
    "\n",
    "Zuerst die imports, numpy weil man das immer braucht. Pandas ist <b>die</b> Library für Datenanalyse heutzutage. Pyplot zum plotten und den curve_fit für eine Regression."
   ]
  },
  {
   "cell_type": "code",
   "execution_count": 2,
   "id": "a0c431a6",
   "metadata": {},
   "outputs": [],
   "source": [
    "import numpy as np\n",
    "import pandas as pd\n",
    "import matplotlib.pyplot as plt\n",
    "from scipy.optimize import curve_fit"
   ]
  },
  {
   "cell_type": "markdown",
   "id": "6c8dc95e",
   "metadata": {},
   "source": [
    "Einfach die csv einlesen. Pandas lädt die Dateien in so genannte <b>Dataframes</b> (kurz df) ein. Man kann sich diese mehr oder weniger als Excel Tabellen vorstellen. Mit df.head(n) kann man die ersten n Einträge anzeigen lassen."
   ]
  },
  {
   "cell_type": "code",
   "execution_count": 11,
   "id": "43ec8fbf",
   "metadata": {},
   "outputs": [],
   "source": [
    "data = pd.read_csv(\"../Daten/Aufgabe1_549nm.csv\")"
   ]
  },
  {
   "cell_type": "code",
   "execution_count": 12,
   "id": "5f183ad5",
   "metadata": {},
   "outputs": [
    {
     "data": {
      "text/html": [
       "<div>\n",
       "<style scoped>\n",
       "    .dataframe tbody tr th:only-of-type {\n",
       "        vertical-align: middle;\n",
       "    }\n",
       "\n",
       "    .dataframe tbody tr th {\n",
       "        vertical-align: top;\n",
       "    }\n",
       "\n",
       "    .dataframe thead th {\n",
       "        text-align: right;\n",
       "    }\n",
       "</style>\n",
       "<table border=\"1\" class=\"dataframe\">\n",
       "  <thead>\n",
       "    <tr style=\"text-align: right;\">\n",
       "      <th></th>\n",
       "      <th>U in V</th>\n",
       "      <th>I in A</th>\n",
       "    </tr>\n",
       "  </thead>\n",
       "  <tbody>\n",
       "    <tr>\n",
       "      <th>0</th>\n",
       "      <td>0.00001</td>\n",
       "      <td>0.00000</td>\n",
       "    </tr>\n",
       "    <tr>\n",
       "      <th>1</th>\n",
       "      <td>0.90386</td>\n",
       "      <td>1.06064</td>\n",
       "    </tr>\n",
       "    <tr>\n",
       "      <th>2</th>\n",
       "      <td>1.80804</td>\n",
       "      <td>2.11372</td>\n",
       "    </tr>\n",
       "  </tbody>\n",
       "</table>\n",
       "</div>"
      ],
      "text/plain": [
       "    U in V   I in A\n",
       "0  0.00001  0.00000\n",
       "1  0.90386  1.06064\n",
       "2  1.80804  2.11372"
      ]
     },
     "execution_count": 12,
     "metadata": {},
     "output_type": "execute_result"
    }
   ],
   "source": [
    "data.head(3)"
   ]
  },
  {
   "cell_type": "markdown",
   "id": "ad4aab26",
   "metadata": {},
   "source": [
    "Mit df.plot kann man sich die entsprechenden Spalten plotten lassen. Gut um kurz eine Übersicht zu bekommen, aber zum plotten für die Graphen im Protokoll wird fast immer plt verwendet bei uns."
   ]
  },
  {
   "cell_type": "code",
   "execution_count": 13,
   "id": "ce236220",
   "metadata": {},
   "outputs": [
    {
     "data": {
      "text/plain": [
       "<AxesSubplot:xlabel='U in V'>"
      ]
     },
     "execution_count": 13,
     "metadata": {},
     "output_type": "execute_result"
    },
    {
     "data": {
      "image/png": "[encoded data removed]",
      "text/plain": [
       "<Figure size 432x288 with 1 Axes>"
      ]
     },
     "metadata": {
      "needs_background": "light"
     },
     "output_type": "display_data"
    }
   ],
   "source": [
    "data.plot('U in V', 'I in A')"
   ]
  },
  {
   "cell_type": "markdown",
   "id": "c8b417cb",
   "metadata": {},
   "source": [
    "Jetzt zur Physik. Ein Photowiderstand ist in guter Näherung ein Ohm'scher Widerstand. Das heißt, dass die Kennlinie eine Gerade sein sollte. Dies ist aber hier nicht der Fall. Das liegt daran, dass das Messgerät nur bis $10$ A messen konnte und dann angefangen hat komische Sachen zu machen.<br><br>\n",
    "\n",
    "Deswegen wird nur bis ca. $7$ V als linear angenommen und zur Auswertung genutzt.<br>\n",
    "Zuerst die lineare Funktion zur Regression definieren."
   ]
  },
  {
   "cell_type": "code",
   "execution_count": 6,
   "id": "810d8c7d",
   "metadata": {},
   "outputs": [],
   "source": [
    "def function(x, m, b):\n",
    "    return m*x + b"
   ]
  },
  {
   "cell_type": "markdown",
   "id": "b23e308e",
   "metadata": {},
   "source": [
    "SciPy.curve_fit funktioniert nur mit Arrays. Dataframes sind jedoch ein eigener Datentyp. Daher werden diese auf Arrays umgecastet. Zugriff auf die einzelnen Einträge funktioniert mit dem df.iloc Befehl. Dieser erlaubt Zugriff auf die Einträge mit einem Index (Zugriff auf die Einträge nach Label/Titel funktioniert mit df.loc). Also wird hier auf alle Einträge der ersten Spalte $[:, 0]$ und der zweiten Spalte $[:, 0]$ Mit .values werden die Werte umgewandelt in Arrays. Das .reshape dient dazu die Arrays in die richtige Form zu bringen. -1 heißt einfach hier, dass automatisch berechnet wird, welche Dimension dieser Eintrag haben wird. Das ist nur wichtig, damit wir keine Arrays der Form $(n, 1)$ haben, die gleich aussehen (wir haben $(n,)$) aber nicht von SciPy.curve_fit angenommen werden."
   ]
  },
  {
   "cell_type": "code",
   "execution_count": 7,
   "id": "fbaae230",
   "metadata": {},
   "outputs": [],
   "source": [
    "x = data.iloc[:, 0].values.reshape(-1,)\n",
    "y = data.iloc[:, 1].values.reshape(-1,)"
   ]
  },
  {
   "cell_type": "markdown",
   "id": "c3370c1a",
   "metadata": {},
   "source": [
    "Hier wird gefittet. Die Parameter sind $popt$ was die optimalen Parameter $m$ und $b$ sind. Die Diagonalelemente von $pcov$ sind die Fehler auf die Regression. Wie vorhin erwähnt, werden die letzten drei Datenpunkte rausgeschmissen, da diese offensichtlich nicht linear sind."
   ]
  },
  {
   "cell_type": "code",
   "execution_count": 8,
   "id": "3ccfb521",
   "metadata": {},
   "outputs": [],
   "source": [
    "popt, pcov = curve_fit(function, x[:-3], y[:-3])"
   ]
  },
  {
   "cell_type": "code",
   "execution_count": 9,
   "id": "b5b845d0",
   "metadata": {},
   "outputs": [
    {
     "name": "stdout",
     "output_type": "stream",
     "text": [
      "[ 1.27207786 -0.12489229]\n",
      "[[ 0.00028839 -0.00090794]\n",
      " [-0.00090794  0.00407643]]\n"
     ]
    }
   ],
   "source": [
    "print(popt)\n",
    "print(pcov)"
   ]
  },
  {
   "cell_type": "markdown",
   "id": "6dad262c",
   "metadata": {},
   "source": [
    "Mit $^*popt$ kann man einfach beide Einträge als Variablen in der Funktion übergeben, wenn diese auch zwei Argumente annimmt an dieser Stelle."
   ]
  },
  {
   "cell_type": "code",
   "execution_count": 10,
   "id": "e15f3893",
   "metadata": {},
   "outputs": [
    {
     "data": {
      "text/plain": [
       "<matplotlib.legend.Legend at 0x169f32bb940>"
      ]
     },
     "execution_count": 10,
     "metadata": {},
     "output_type": "execute_result"
    },
    {
     "data": {
      "image/png": "[encoded data removed]",
      "text/plain": [
       "<Figure size 432x288 with 1 Axes>"
      ]
     },
     "metadata": {
      "needs_background": "light"
     },
     "output_type": "display_data"
    }
   ],
   "source": [
    "plt.plot(x, y, 'o--', label='Messdaten')\n",
    "plt.ylabel('I in A')\n",
    "plt.xlabel('U in V')\n",
    "plt.plot(x, function(x, *popt), label='Fit', color='red')\n",
    "plt.legend()"
   ]
  },
  {
   "cell_type": "markdown",
   "id": "7d81c588",
   "metadata": {},
   "source": [
    "Fehler wird noch berechnet. Größtfehler wird abgeschätzt über ungeauigkeit von der Messung selbst (Feinheit der Skala, genauigkeit der Messgeräte, etc.)."
   ]
  },
  {
   "cell_type": "code",
   "execution_count": 64,
   "id": "24317aac",
   "metadata": {},
   "outputs": [
    {
     "data": {
      "text/plain": [
       "0.012720778629093437"
      ]
     },
     "execution_count": 64,
     "metadata": {},
     "output_type": "execute_result"
    }
   ],
   "source": [
    "error = popt[0] * 0.01\n",
    "error"
   ]
  }
 ],
 "metadata": {
  "kernelspec": {
   "display_name": "Python 3 (ipykernel)",
   "language": "python",
   "name": "python3"
  },
  "language_info": {
   "codemirror_mode": {
    "name": "ipython",
    "version": 3
   },
   "file_extension": ".py",
   "mimetype": "text/x-python",
   "name": "python",
   "nbconvert_exporter": "python",
   "pygments_lexer": "ipython3",
   "version": "3.9.12"
  }
 },
 "nbformat": 4,
 "nbformat_minor": 5
}
