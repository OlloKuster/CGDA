{
 "cells": [
  {
   "cell_type": "markdown",
   "id": "f221bfb1-5ea4-4d33-bd57-134f4ed02863",
   "metadata": {},
   "source": [
    "# Title\n",
    "\n",
    "Let's test some LaTeX $\\nabla f(x) = 0$"
   ]
  },
  {
   "cell_type": "markdown",
   "id": "f11d8df0-5b9a-4a85-a124-5c69a3567071",
   "metadata": {},
   "source": [
    "# Title\n",
    "## Subtitle\n",
    "\n",
    "My first program"
   ]
  },
  {
   "cell_type": "code",
   "execution_count": 39,
   "id": "88f2798d-427f-4341-ab82-460863caa9c0",
   "metadata": {},
   "outputs": [
    {
     "name": "stdout",
     "output_type": "stream",
     "text": [
      "Hello World!\n"
     ]
    }
   ],
   "source": [
    "print(\"Hello World!\")"
   ]
  },
  {
   "cell_type": "code",
   "execution_count": null,
   "id": "0446eb26-b611-435d-b8ed-0d9ff0bd5422",
   "metadata": {},
   "outputs": [],
   "source": []
  }
 ],
 "metadata": {
  "kernelspec": {
   "display_name": "Python 3 (ipykernel)",
   "language": "python",
   "name": "python3"
  },
  "language_info": {
   "codemirror_mode": {
    "name": "ipython",
    "version": 3
   },
   "file_extension": ".py",
   "mimetype": "text/x-python",
   "name": "python",
   "nbconvert_exporter": "python",
   "pygments_lexer": "ipython3",
   "version": "3.9.6"
  }
 },
 "nbformat": 4,
 "nbformat_minor": 5
}
