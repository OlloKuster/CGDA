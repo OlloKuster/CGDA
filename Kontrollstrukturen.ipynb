{
 "cells": [
  {
   "cell_type": "markdown",
   "id": "0e37a1f3-cddb-4591-9aa4-474545b15f5f",
   "metadata": {
    "tags": []
   },
   "source": [
    "# Kontrollstrukturen\n",
    "## Fallunterscheidungen\n",
    "\n",
    "### if-Statements\n",
    "<b>if</b>-Statements werden benutzt um Fälle zu unterscheiden. Es wird überprüft, ob das <b>if</b>-Statement <font color='green'><b>True</b></font> ist und dann ausgeführt."
   ]
  },
  {
   "cell_type": "code",
   "execution_count": 3,
   "id": "764d0f2c-5124-404d-8903-96077a982966",
   "metadata": {},
   "outputs": [
    {
     "name": "stdout",
     "output_type": "stream",
     "text": [
      "Wird ausgeführt\n",
      "Ende\n"
     ]
    }
   ],
   "source": [
    "bedingung = True\n",
    "\n",
    "if bedingung:\n",
    "    print(\"Wird ausgeführt\")\n",
    "print(\"Ende\")"
   ]
  },
  {
   "cell_type": "code",
   "execution_count": 4,
   "id": "6ce41836-095c-4b60-a4a7-c8eb1b17fd06",
   "metadata": {},
   "outputs": [
    {
     "name": "stdout",
     "output_type": "stream",
     "text": [
      "Ende\n"
     ]
    }
   ],
   "source": [
    "bedingung = False\n",
    "\n",
    "if bedingung:\n",
    "    print(\"Wird ausgeführt\")\n",
    "print(\"Ende\")"
   ]
  },
  {
   "cell_type": "markdown",
   "id": "6f8389b9-2216-457d-a804-e98eeb146cd9",
   "metadata": {},
   "source": [
    "### if-else-Statements\n",
    "Man kann <b>if</b>-Statements mit einem <b>else</b>-Statement verknüpfen um bedingt Sachen auszuführen."
   ]
  },
  {
   "cell_type": "code",
   "execution_count": 5,
   "id": "4f8ec4c9-1e64-4b68-a49c-74b036992bca",
   "metadata": {},
   "outputs": [
    {
     "name": "stdout",
     "output_type": "stream",
     "text": [
      "Bedingung stimmt\n"
     ]
    }
   ],
   "source": [
    "bedingung = True\n",
    "\n",
    "if bedingung:\n",
    "    print(\"Bedingung stimmt\")\n",
    "else:\n",
    "    print(\"Bedingung stimmt nicht\")"
   ]
  },
  {
   "cell_type": "code",
   "execution_count": 6,
   "id": "66bb2a03-6676-4957-a882-784a7f475422",
   "metadata": {},
   "outputs": [
    {
     "name": "stdout",
     "output_type": "stream",
     "text": [
      "Bedingung stimmt nicht\n"
     ]
    }
   ],
   "source": [
    "bedingung = False\n",
    "\n",
    "if bedingung:\n",
    "    print(\"Bedingung stimmt\")\n",
    "else:\n",
    "    print(\"Bedingung stimmt nicht\")"
   ]
  },
  {
   "cell_type": "markdown",
   "id": "11e9aa2f-e2b8-47c9-bd94-930ad77a7a22",
   "metadata": {},
   "source": [
    "### Allgemeine Bedingungen\n",
    "\n",
    "Bedingungen können auch komplizierter aussehen. Normalerweise benutzt man \"<b>==</b>\" um eine Bedingung zu überprüfen. Sommit kann man sogar mehrere <b>else</b>-Statements aneinander reihen. Der Befehl hierfür ist dann <b>elif</b>."
   ]
  },
  {
   "cell_type": "code",
   "execution_count": 7,
   "id": "bbf81517-f22c-46c2-893b-526029d7b009",
   "metadata": {},
   "outputs": [
    {
     "name": "stdout",
     "output_type": "stream",
     "text": [
      "Es ist ein Stern!\n"
     ]
    }
   ],
   "source": [
    "bedingung = \"Stern\"\n",
    "\n",
    "if bedingung == \"Kreis\":\n",
    "    print(\"Es ist ein Kreis!\")\n",
    "elif bedingung == \"Stern\":\n",
    "    print(\"Es ist ein Stern!\")\n",
    "elif bedingung == \"Viereck\":\n",
    "    print(\"Es ist ein Viereck!\")"
   ]
  },
  {
   "cell_type": "markdown",
   "id": "3a4cd2db-a85b-4c97-84a6-797b5dd580e6",
   "metadata": {},
   "source": [
    "### Für Leute die andere Programmiersprachen kennen\n",
    "\n",
    "In vielen anderen Programmiersprachen gibt es sogenannte <b>switch</b>-Statements. Diese funktionieren ähnlich zu dem <b>elif</b> in Python, sind aber meistens so implementiert, dass sie schneller sind als mehrere <b>elif</b>- bzw. <b>else</b>-Statements hintereinander zu reihen. Python hat so etwas (momentan Version 3.9) nicht."
   ]
  },
  {
   "cell_type": "markdown",
   "id": "475aae27-fa53-46c5-b000-80bce55d3933",
   "metadata": {},
   "source": [
    "### not Befehl\n",
    "\n",
    "Verneinungen von einem Statement gehen ganz einfach mit dem <b>not</b> Befehl"
   ]
  },
  {
   "cell_type": "code",
   "execution_count": 25,
   "id": "d9b2228c-606e-47a7-b9ce-9cfa5e474155",
   "metadata": {},
   "outputs": [
    {
     "name": "stdout",
     "output_type": "stream",
     "text": [
      "False\n"
     ]
    }
   ],
   "source": [
    "bedingung = True\n",
    "print(not bedingung)"
   ]
  },
  {
   "cell_type": "markdown",
   "id": "9115e2dd-8ca8-498c-9bc7-ac3bf7c0308f",
   "metadata": {},
   "source": [
    "## Schleifen\n",
    "\n",
    "Schleifen bilden oft das Herzstück eines Programmes. Computer können sehr schnell sehr viele Rechnungen erledigen. Damit man nicht 1000 mal den gleichen Befehl eingeben muss, gibt es Schleifen.\n",
    "\n",
    "### for-Schleifen\n",
    "\n",
    "Die wahrscheinlich am häufigsten benutzte Variante. Man setzt einen <i>Startwert</i> und einen <i>Endwert</i> und lässt einen sogenannten <i>Laufindex</i> dann von dem Startwert aus bis zum <i>Endwert</i> laufen.\n",
    "Python ist aber etwas speziell, da es einfach über was auch immer man ihm vorgibt, iteriert. Im Normalfall wird die <b>range</b>-Funktion genutzt, um eine <i>Range</i> an Werten zwischen <i>Anfangs</i>- und <i>Endwert</i> zu generieren.<br>\n",
    "<font color='red'><b>Achtung:</b></font> Man beginnt bei 0 zu zählen, daher ist der letzte Wert, der bei <b>range(0, n)</b> auftaucht n-1"
   ]
  },
  {
   "cell_type": "code",
   "execution_count": 18,
   "id": "b82bb849-d838-4145-92e0-1ebf4bad4f3a",
   "metadata": {},
   "outputs": [
    {
     "name": "stdout",
     "output_type": "stream",
     "text": [
      "0\n",
      "1\n",
      "2\n",
      "3\n",
      "4\n",
      "5\n",
      "6\n",
      "7\n",
      "8\n"
     ]
    }
   ],
   "source": [
    "for i in range(0, 9):\n",
    "    print(i)"
   ]
  },
  {
   "cell_type": "markdown",
   "id": "ac448af3-d8ab-4702-a501-74d2ba235038",
   "metadata": {},
   "source": [
    "### Um mehr als 1 erhöhen\n",
    "\n",
    "Wenn man z.B. in Dreierschritten erhöhen will, kann man dies auch der <b>range</b>-Funktion sagen. Dies ist über einen dritten Index in der Funktion möglich."
   ]
  },
  {
   "cell_type": "code",
   "execution_count": 19,
   "id": "5be40a75-502e-4399-a174-f6a1370cd78e",
   "metadata": {},
   "outputs": [
    {
     "name": "stdout",
     "output_type": "stream",
     "text": [
      "0\n",
      "3\n",
      "6\n"
     ]
    }
   ],
   "source": [
    "for i in range(0, 9, 3):\n",
    "    print(i)"
   ]
  },
  {
   "cell_type": "markdown",
   "id": "e4a77041-0533-478d-b490-6bc67950aadb",
   "metadata": {},
   "source": [
    "### while-Schleifen\n",
    "\n",
    "<b>while</b>-Schleifen werden so lange ausgeführt, bis eine vorgegebene Bedinung erfüllt ist. Im Gegensatz zu <b>for</b>-Schleifen, muss der Index aber manuell gestzt und erhöht werden. Jede <b>while</b>-Schleife kann auch in eine <b>for</b>-Schleife umgeschrieben werden und anders herum."
   ]
  },
  {
   "cell_type": "code",
   "execution_count": 22,
   "id": "bc41c9a4-ce88-4686-807a-328c89f338ed",
   "metadata": {},
   "outputs": [
    {
     "name": "stdout",
     "output_type": "stream",
     "text": [
      "0\n",
      "1\n",
      "2\n",
      "3\n",
      "4\n",
      "5\n"
     ]
    }
   ],
   "source": [
    "i = 0\n",
    "\n",
    "while i < 6:\n",
    "    print(i)\n",
    "    i += 1"
   ]
  },
  {
   "cell_type": "markdown",
   "id": "2e2c4522-a94a-4be0-8815-b3d37a0ddc20",
   "metadata": {},
   "source": [
    "## Beides kombinieren\n",
    "\n",
    "Die letzte Möglichkeit, den Kontrollfluss des Programmes zu steuern ist mittes der <b>break</b> und <b>continue</b> Befehle. Der <b>break</b> Befehl wird dazu genutzt, um eine Schleife abzubrechen, während mit dem <b>continue</b> der aktuelle Schleifendurchlauf übersprungen werden kann. Dies wird normalerweise innerhalb einer Fallunterscheidung gemacht, um bestimmte Resultate zu erziehlen."
   ]
  },
  {
   "cell_type": "code",
   "execution_count": 1,
   "id": "a67662e4-8d85-4e97-9590-adddad8d0149",
   "metadata": {},
   "outputs": [
    {
     "name": "stdout",
     "output_type": "stream",
     "text": [
      "0\n",
      "1\n",
      "2\n",
      "4\n"
     ]
    }
   ],
   "source": [
    "for i in range(0, 9):\n",
    "    if i == 3:  # Überspringe die 3\n",
    "        continue\n",
    "    if i == 5:\n",
    "        break  # Sobald wir i=5 erreicht haben, brich ab.\n",
    "    print(i)"
   ]
  },
  {
   "cell_type": "code",
   "execution_count": null,
   "id": "c6427772-91f6-437d-864c-105eb3ce8955",
   "metadata": {},
   "outputs": [],
   "source": []
  }
 ],
 "metadata": {
  "kernelspec": {
   "display_name": "Python 3 (ipykernel)",
   "language": "python",
   "name": "python3"
  },
  "language_info": {
   "codemirror_mode": {
    "name": "ipython",
    "version": 3
   },
   "file_extension": ".py",
   "mimetype": "text/x-python",
   "name": "python",
   "nbconvert_exporter": "python",
   "pygments_lexer": "ipython3",
   "version": "3.9.6"
  }
 },
 "nbformat": 4,
 "nbformat_minor": 5
}
